{
  "cells": [
    {
      "cell_type": "markdown",
      "metadata": {
        "id": "ZBDPHxPstuki"
      },
      "source": [
        "# PyTorch Basics Tutorial\n",
        "\n",
        "This notebook covers the fundamental concepts of PyTorch including tensors, operations, and automatic differentiation.\n"
      ]
    },
    {
      "cell_type": "markdown",
      "metadata": {
        "id": "v-RObpqotukl"
      },
      "source": [
        "## 1. Setup and Device Detection\n",
        "\n",
        "First, let's import PyTorch and set up device-agnostic code that works on CPU, CUDA (NVIDIA GPUs), or MPS (Apple Silicon)."
      ]
    },
    {
      "cell_type": "code",
      "execution_count": null,
      "metadata": {
        "colab": {
          "base_uri": "https://localhost:8080/"
        },
        "id": "xKpu3olVtukl",
        "outputId": "0b75a19b-537f-4c83-8803-d7d768a9aec1"
      },
      "outputs": [
        {
          "output_type": "stream",
          "name": "stdout",
          "text": [
            "Using CPU\n",
            "PyTorch version: 2.8.0+cu126\n",
            "Device: cpu\n"
          ]
        }
      ],
      "source": [
        "import torch\n",
        "import torch.nn as nn\n",
        "import torch.optim as optim\n",
        "import numpy as np\n",
        "import matplotlib.pyplot as plt\n",
        "\n",
        "# Device-agnostic setup\n",
        "if torch.cuda.is_available():\n",
        "    device = torch.device('cuda')\n",
        "    print(f\"Using CUDA: {torch.cuda.get_device_name()}\")\n",
        "elif torch.backends.mps.is_available():\n",
        "    device = torch.device('mps')\n",
        "    print(\"Using MPS (Apple Silicon)\")\n",
        "else:\n",
        "    device = torch.device('cpu')\n",
        "    print(\"Using CPU\")\n",
        "\n",
        "print(f\"PyTorch version: {torch.__version__}\")\n",
        "print(f\"Device: {device}\")"
      ]
    },
    {
      "cell_type": "markdown",
      "metadata": {
        "id": "Bd_7iQ-ltukm"
      },
      "source": [
        "## 2. Tensor Basics\n",
        "\n",
        "Tensors are the fundamental data structure in PyTorch, similar to NumPy arrays but with GPU support and automatic differentiation."
      ]
    },
    {
      "cell_type": "code",
      "execution_count": null,
      "metadata": {
        "colab": {
          "base_uri": "https://localhost:8080/"
        },
        "id": "qBEbRzCftukm",
        "outputId": "69ba5192-25cc-45e1-ce43-a2230c963bdc"
      },
      "outputs": [
        {
          "output_type": "stream",
          "name": "stdout",
          "text": [
            "1D tensor: tensor([1., 2., 3., 4., 5.])\n",
            "2D tensor:\n",
            "tensor([[1., 2.],\n",
            "        [3., 4.]])\n",
            "Random tensor (3x4):\n",
            "tensor([[ 1.0985,  0.0500, -1.0131, -0.6743],\n",
            "        [-0.2885, -0.5716,  1.5829,  0.9385],\n",
            "        [-0.2690,  0.4233, -0.2228,  0.9231]])\n",
            "Zeros:\n",
            "tensor([[0., 0., 0.],\n",
            "        [0., 0., 0.]])\n",
            "Ones:\n",
            "tensor([[1., 1., 1.],\n",
            "        [1., 1., 1.]])\n"
          ]
        }
      ],
      "source": [
        "# Creating tensors\n",
        "x = torch.tensor([1, 2, 3, 4, 5], dtype=torch.float32)\n",
        "print(f\"1D tensor: {x}\")\n",
        "\n",
        "# 2D tensor (matrix)\n",
        "y = torch.tensor([[1, 2], [3, 4]], dtype=torch.float32)\n",
        "print(f\"2D tensor:\\n{y}\")\n",
        "\n",
        "# Random tensors\n",
        "random_tensor = torch.randn(3, 4)\n",
        "print(f\"Random tensor (3x4):\\n{random_tensor}\")\n",
        "\n",
        "# Zeros and ones\n",
        "zeros = torch.zeros(2, 3)\n",
        "ones = torch.ones(2, 3)\n",
        "print(f\"Zeros:\\n{zeros}\")\n",
        "print(f\"Ones:\\n{ones}\")"
      ]
    },
    {
      "cell_type": "markdown",
      "metadata": {
        "id": "Sw-UHuc_tukn"
      },
      "source": [
        "## 3. Moving Tensors to Device\n",
        "\n",
        "For device-agnostic code, always move your tensors to the appropriate device."
      ]
    },
    {
      "cell_type": "code",
      "execution_count": null,
      "metadata": {
        "colab": {
          "base_uri": "https://localhost:8080/"
        },
        "id": "xlyEZmq3tukn",
        "outputId": "6f1fda5d-9f4d-43aa-fa5f-1dfa70afb639"
      },
      "outputs": [
        {
          "output_type": "stream",
          "name": "stdout",
          "text": [
            "Tensor on CPU: cpu\n",
            "Tensor on cpu: cpu\n",
            "Tensor created directly on cpu: cpu\n"
          ]
        }
      ],
      "source": [
        "# Create tensor on CPU first\n",
        "x_cpu = torch.randn(3, 4)\n",
        "print(f\"Tensor on CPU: {x_cpu.device}\")\n",
        "\n",
        "# Move to device (works for CPU, CUDA, or MPS)\n",
        "x_device = x_cpu.to(device)\n",
        "print(f\"Tensor on {device}: {x_device.device}\")\n",
        "\n",
        "# Alternative: create directly on device\n",
        "y_device = torch.randn(3, 4, device=device)\n",
        "print(f\"Tensor created directly on {device}: {y_device.device}\")"
      ]
    },
    {
      "cell_type": "markdown",
      "metadata": {
        "id": "8bIJRlELtukn"
      },
      "source": [
        "## 4. Basic Tensor Operations\n",
        "\n",
        "PyTorch supports a wide range of operations on tensors."
      ]
    },
    {
      "cell_type": "code",
      "execution_count": null,
      "metadata": {
        "colab": {
          "base_uri": "https://localhost:8080/"
        },
        "id": "Kanzrubntukn",
        "outputId": "966eb587-f5b1-44de-ada0-6e220c3781e6"
      },
      "outputs": [
        {
          "output_type": "stream",
          "name": "stdout",
          "text": [
            "Tensor a:\n",
            "tensor([[1., 2.],\n",
            "        [3., 4.]])\n",
            "Tensor b:\n",
            "tensor([[5., 6.],\n",
            "        [7., 8.]])\n",
            "\n",
            "Addition (a + b):\n",
            "tensor([[ 6.,  8.],\n",
            "        [10., 12.]])\n",
            "Subtraction (a - b):\n",
            "tensor([[-4., -4.],\n",
            "        [-4., -4.]])\n",
            "Multiplication (a * b):\n",
            "tensor([[ 5., 12.],\n",
            "        [21., 32.]])\n",
            "Division (a / b):\n",
            "tensor([[0.2000, 0.3333],\n",
            "        [0.4286, 0.5000]])\n",
            "\n",
            "Matrix multiplication (a @ b):\n",
            "tensor([[19., 22.],\n",
            "        [43., 50.]])\n",
            "\n",
            "Transpose of a:\n",
            "tensor([[1., 3.],\n",
            "        [2., 4.]])\n",
            "Sum of all elements in a: 10.0\n",
            "Mean of a: 2.5\n",
            "Max of a: 4.0\n"
          ]
        }
      ],
      "source": [
        "# Create tensors on device\n",
        "a = torch.tensor([[1, 2], [3, 4]], dtype=torch.float32, device=device)\n",
        "b = torch.tensor([[5, 6], [7, 8]], dtype=torch.float32, device=device)\n",
        "\n",
        "print(f\"Tensor a:\\n{a}\")\n",
        "print(f\"Tensor b:\\n{b}\")\n",
        "\n",
        "# Element-wise operations\n",
        "print(f\"\\nAddition (a + b):\\n{a + b}\")\n",
        "print(f\"Subtraction (a - b):\\n{a - b}\")\n",
        "print(f\"Multiplication (a * b):\\n{a * b}\")\n",
        "print(f\"Division (a / b):\\n{a / b}\")\n",
        "\n",
        "# Matrix multiplication\n",
        "print(f\"\\nMatrix multiplication (a @ b):\\n{a @ b}\")\n",
        "# Alternative: torch.mm(a, b) or torch.matmul(a, b)\n",
        "\n",
        "# Other useful operations\n",
        "print(f\"\\nTranspose of a:\\n{a.T}\")\n",
        "print(f\"Sum of all elements in a: {a.sum()}\")\n",
        "print(f\"Mean of a: {a.mean()}\")\n",
        "print(f\"Max of a: {a.max()}\")"
      ]
    },
    {
      "cell_type": "markdown",
      "metadata": {
        "id": "CIAIAdAJtukn"
      },
      "source": [
        "## 5. Tensor Reshaping and Indexing"
      ]
    },
    {
      "cell_type": "code",
      "execution_count": null,
      "metadata": {
        "colab": {
          "base_uri": "https://localhost:8080/"
        },
        "id": "tQG44SPotuko",
        "outputId": "a446d24f-5613-419b-edf9-21943bd2d743"
      },
      "outputs": [
        {
          "output_type": "stream",
          "name": "stdout",
          "text": [
            "Original tensor: tensor([ 0.,  1.,  2.,  3.,  4.,  5.,  6.,  7.,  8.,  9., 10., 11.])\n",
            "Shape: torch.Size([12])\n",
            "\n",
            "Reshaped to 3x4:\n",
            "tensor([[ 0.,  1.,  2.,  3.],\n",
            "        [ 4.,  5.,  6.,  7.],\n",
            "        [ 8.,  9., 10., 11.]])\n",
            "\n",
            "Reshaped to 2x6:\n",
            "tensor([[ 0.,  1.,  2.,  3.,  4.,  5.],\n",
            "        [ 6.,  7.,  8.,  9., 10., 11.]])\n",
            "\n",
            "First row: tensor([0., 1., 2., 3.])\n",
            "First column: tensor([0., 4., 8.])\n",
            "Element at [1,2]: 6.0\n",
            "First two rows, first two columns:\n",
            "tensor([[0., 1.],\n",
            "        [4., 5.]])\n"
          ]
        }
      ],
      "source": [
        "# Create a tensor\n",
        "x = torch.arange(12, dtype=torch.float32, device=device)\n",
        "print(f\"Original tensor: {x}\")\n",
        "print(f\"Shape: {x.shape}\")\n",
        "\n",
        "# Reshape to 3x4\n",
        "x_reshaped = x.reshape(3, 4)\n",
        "print(f\"\\nReshaped to 3x4:\\n{x_reshaped}\")\n",
        "\n",
        "# Reshape to 2x6\n",
        "x_reshaped2 = x.reshape(2, 6)\n",
        "print(f\"\\nReshaped to 2x6:\\n{x_reshaped2}\")\n",
        "\n",
        "# Indexing\n",
        "print(f\"\\nFirst row: {x_reshaped[0]}\")\n",
        "print(f\"First column: {x_reshaped[:, 0]}\")\n",
        "print(f\"Element at [1,2]: {x_reshaped[1, 2]}\")\n",
        "\n",
        "# Slicing\n",
        "print(f\"First two rows, first two columns:\\n{x_reshaped[:2, :2]}\")"
      ]
    },
    {
      "cell_type": "markdown",
      "metadata": {
        "id": "8a11mnmgtuko"
      },
      "source": [
        "## 6. Automatic Differentiation (Autograd)\n",
        "\n",
        "One of PyTorch's most powerful features is automatic differentiation for computing gradients."
      ]
    },
    {
      "cell_type": "code",
      "execution_count": null,
      "metadata": {
        "colab": {
          "base_uri": "https://localhost:8080/"
        },
        "id": "Xb6nZ0Tdtuko",
        "outputId": "f56b97b9-ad85-4337-cc11-e35c6a60235e"
      },
      "outputs": [
        {
          "output_type": "stream",
          "name": "stdout",
          "text": [
            "x = tensor([2.], requires_grad=True)\n",
            "y = x^2 + 2x + 1 = tensor([9.], grad_fn=<AddBackward0>)\n",
            "dy/dx = 2x + 2 = tensor([6.])\n",
            "Expected gradient at x=2: 6\n"
          ]
        }
      ],
      "source": [
        "# Create a tensor that requires gradients\n",
        "x = torch.tensor([2.0], requires_grad=True, device=device)\n",
        "print(f\"x = {x}\")\n",
        "\n",
        "# Define a function: y = x^2 + 2x + 1\n",
        "y = x**2 + 2*x + 1\n",
        "print(f\"y = x^2 + 2x + 1 = {y}\")\n",
        "\n",
        "# Compute gradients\n",
        "y.backward()\n",
        "print(f\"dy/dx = 2x + 2 = {x.grad}\")\n",
        "\n",
        "# For x = 2, dy/dx should be 2(2) + 2 = 6\n",
        "print(f\"Expected gradient at x=2: {2*2 + 2}\")"
      ]
    },
    {
      "cell_type": "code",
      "execution_count": null,
      "metadata": {
        "colab": {
          "base_uri": "https://localhost:8080/"
        },
        "id": "Qg95-T-ltuko",
        "outputId": "2a3d0846-f841-4357-ace0-07b767c31482"
      },
      "outputs": [
        {
          "output_type": "stream",
          "name": "stdout",
          "text": [
            "f = a*b + b*c = tensor([8.], grad_fn=<AddBackward0>)\n",
            "df/da = b = tensor([2.])\n",
            "df/db = a + c = tensor([4.])\n",
            "df/dc = b = tensor([2.])\n"
          ]
        }
      ],
      "source": [
        "# More complex example with multiple variables\n",
        "a = torch.tensor([1.0], requires_grad=True, device=device)\n",
        "b = torch.tensor([2.0], requires_grad=True, device=device)\n",
        "c = torch.tensor([3.0], requires_grad=True, device=device)\n",
        "\n",
        "# Function: f = a*b + b*c\n",
        "f = a*b + b*c\n",
        "print(f\"f = a*b + b*c = {f}\")\n",
        "\n",
        "# Compute gradients\n",
        "f.backward()\n",
        "\n",
        "print(f\"df/da = b = {a.grad}\")\n",
        "print(f\"df/db = a + c = {b.grad}\")\n",
        "print(f\"df/dc = b = {c.grad}\")\n",
        "\n",
        "# Verify: df/da = b = 2, df/db = a + c = 1 + 3 = 4, df/dc = b = 2"
      ]
    },
    {
      "cell_type": "markdown",
      "metadata": {
        "id": "7cHBFbF0tuko"
      },
      "source": [
        "## 7. Simple Neural Network Layer\n",
        "\n",
        "Let's create a simple linear layer to demonstrate how PyTorch handles neural network components."
      ]
    },
    {
      "cell_type": "code",
      "execution_count": null,
      "metadata": {
        "colab": {
          "base_uri": "https://localhost:8080/"
        },
        "id": "ROplzTF9tuko",
        "outputId": "70eb344a-714b-47a9-bddb-75558a3f152d"
      },
      "outputs": [
        {
          "output_type": "stream",
          "name": "stdout",
          "text": [
            "Linear layer: Linear(in_features=4, out_features=2, bias=True)\n",
            "Weight shape: torch.Size([2, 4])\n",
            "Bias shape: torch.Size([2])\n",
            "\n",
            "Input shape: torch.Size([3, 4])\n",
            "Input:\n",
            "tensor([[ 1.6515,  0.2271,  0.9639, -1.0431],\n",
            "        [ 0.0867,  1.3648, -1.2446,  0.3726],\n",
            "        [ 1.2385,  0.4360,  1.1521, -0.7522]])\n",
            "\n",
            "Output shape: torch.Size([3, 2])\n",
            "Output:\n",
            "tensor([[ 0.5473, -0.4316],\n",
            "        [ 0.9168,  0.1575],\n",
            "        [ 0.5275, -0.4563]], grad_fn=<AddmmBackward0>)\n"
          ]
        }
      ],
      "source": [
        "# Create a simple linear layer\n",
        "input_size = 4\n",
        "output_size = 2\n",
        "\n",
        "# Linear layer: y = xW^T + b\n",
        "linear_layer = nn.Linear(input_size, output_size).to(device)\n",
        "\n",
        "print(f\"Linear layer: {linear_layer}\")\n",
        "print(f\"Weight shape: {linear_layer.weight.shape}\")\n",
        "print(f\"Bias shape: {linear_layer.bias.shape}\")\n",
        "\n",
        "# Create some input data\n",
        "batch_size = 3\n",
        "x = torch.randn(batch_size, input_size, device=device)\n",
        "print(f\"\\nInput shape: {x.shape}\")\n",
        "print(f\"Input:\\n{x}\")\n",
        "\n",
        "# Forward pass\n",
        "output = linear_layer(x)\n",
        "print(f\"\\nOutput shape: {output.shape}\")\n",
        "print(f\"Output:\\n{output}\")"
      ]
    },
    {
      "cell_type": "markdown",
      "metadata": {
        "id": "aFjP9h9stukp"
      },
      "source": [
        "## 8. A Complete Mini Example: Gradient Descent\n",
        "\n",
        "Let's implement a simple gradient descent optimization to fit a line to some data."
      ]
    },
    {
      "cell_type": "code",
      "execution_count": null,
      "metadata": {
        "colab": {
          "base_uri": "https://localhost:8080/"
        },
        "id": "sGWIMRoVtukp",
        "outputId": "d9254308-1614-4a1e-d347-c4d50b9bf4d0"
      },
      "outputs": [
        {
          "output_type": "stream",
          "name": "stdout",
          "text": [
            "Data shapes - X: torch.Size([100, 1]), Y: torch.Size([100, 1])\n",
            "Initial parameters - w: 0.3932, b: -0.2148\n",
            "Epoch 0: Loss = 12.196194, w = 0.4462, b = -0.1673\n",
            "Epoch 100: Loss = 0.190667, w = 2.6724, b = 1.7563\n",
            "Epoch 200: Loss = 0.010591, w = 2.9583, b = 1.9760\n",
            "Epoch 300: Loss = 0.007847, w = 2.9955, b = 2.0006\n",
            "Epoch 400: Loss = 0.007804, w = 3.0004, b = 2.0033\n",
            "Epoch 500: Loss = 0.007804, w = 3.0011, b = 2.0035\n",
            "Epoch 600: Loss = 0.007804, w = 3.0012, b = 2.0036\n",
            "Epoch 700: Loss = 0.007804, w = 3.0012, b = 2.0036\n",
            "Epoch 800: Loss = 0.007804, w = 3.0012, b = 2.0036\n",
            "Epoch 900: Loss = 0.007804, w = 3.0012, b = 2.0036\n",
            "\n",
            "Final parameters - w: 3.0012, b: 2.0036\n",
            "True parameters - w: 3.0000, b: 2.0000\n"
          ]
        }
      ],
      "source": [
        "# Generate synthetic data: y = 3x + 2 + noise\n",
        "torch.manual_seed(42)\n",
        "n_samples = 100\n",
        "x_data = torch.randn(n_samples, 1, device=device)\n",
        "y_data = 3 * x_data + 2 + 0.1 * torch.randn(n_samples, 1, device=device)\n",
        "\n",
        "print(f\"Data shapes - X: {x_data.shape}, Y: {y_data.shape}\")\n",
        "\n",
        "# Initialize parameters\n",
        "w = torch.randn(1, 1, requires_grad=True, device=device)\n",
        "b = torch.randn(1, requires_grad=True, device=device)\n",
        "\n",
        "print(f\"Initial parameters - w: {w.item():.4f}, b: {b.item():.4f}\")\n",
        "\n",
        "# Training loop\n",
        "learning_rate = 0.01\n",
        "n_epochs = 1000\n",
        "losses = []\n",
        "\n",
        "for epoch in range(n_epochs):\n",
        "    # Forward pass\n",
        "    y_pred = x_data @ w + b\n",
        "\n",
        "    # Compute loss (MSE)\n",
        "    loss = ((y_pred - y_data) ** 2).mean()\n",
        "    losses.append(loss.item())\n",
        "\n",
        "    # Backward pass\n",
        "    loss.backward()\n",
        "\n",
        "    # Update parameters\n",
        "    with torch.no_grad():\n",
        "        w -= learning_rate * w.grad\n",
        "        b -= learning_rate * b.grad\n",
        "\n",
        "        # Zero gradients\n",
        "        w.grad.zero_()\n",
        "        b.grad.zero_()\n",
        "\n",
        "    if epoch % 100 == 0:\n",
        "        print(f\"Epoch {epoch}: Loss = {loss.item():.6f}, w = {w.item():.4f}, b = {b.item():.4f}\")\n",
        "\n",
        "print(f\"\\nFinal parameters - w: {w.item():.4f}, b: {b.item():.4f}\")\n",
        "print(f\"True parameters - w: 3.0000, b: 2.0000\")"
      ]
    },
    {
      "cell_type": "code",
      "execution_count": null,
      "metadata": {
        "colab": {
          "base_uri": "https://localhost:8080/",
          "height": 407
        },
        "id": "3RTbQJLGtukp",
        "outputId": "85bb0c3b-adf0-4164-c14e-11b39a1d16ee"
      },
      "outputs": [
        {
          "output_type": "display_data",
          "data": {
            "text/plain": [
              "<Figure size 1200x400 with 2 Axes>"
            ],
            "image/png": "[encoded data removed]"
          },
          "metadata": {}
        }
      ],
      "source": [
        "# Plot the results\n",
        "plt.figure(figsize=(12, 4))\n",
        "\n",
        "# Plot 1: Data and fitted line\n",
        "plt.subplot(1, 2, 1)\n",
        "x_cpu = x_data.cpu().numpy()\n",
        "y_cpu = y_data.cpu().numpy()\n",
        "x_line = torch.linspace(-3, 3, 100).to(device)\n",
        "y_line = (x_line * w + b).cpu().detach().numpy()\n",
        "x_line_cpu = x_line.cpu().numpy()\n",
        "\n",
        "plt.scatter(x_cpu, y_cpu, alpha=0.6, label='Data')\n",
        "plt.plot(x_line_cpu, y_line.reshape(-1), 'r-', label=f'Fitted: y = {w.item():.2f}x + {b.item():.2f}')\n",
        "plt.plot(x_line_cpu, 3*x_line_cpu + 2, 'g--', label='True: y = 3x + 2')\n",
        "plt.xlabel('X')\n",
        "plt.ylabel('Y')\n",
        "plt.title('Linear Regression with Gradient Descent')\n",
        "plt.legend()\n",
        "plt.grid(True, alpha=0.3)\n",
        "\n",
        "# Plot 2: Loss curve\n",
        "plt.subplot(1, 2, 2)\n",
        "plt.plot(losses)\n",
        "plt.xlabel('Epoch')\n",
        "plt.ylabel('Loss')\n",
        "plt.title('Training Loss')\n",
        "plt.grid(True, alpha=0.3)\n",
        "\n",
        "plt.tight_layout()\n",
        "plt.show()"
      ]
    },
    {
      "cell_type": "markdown",
      "metadata": {
        "id": "jUKGuFCKtukp"
      },
      "source": [
        "## 9. Key Takeaways\n",
        "\n",
        "In this tutorial, we covered:\n",
        "\n",
        "1. **Device-agnostic code**: Always use `device = torch.device(...)` and `.to(device)` for compatibility across different hardware\n",
        "2. **Tensors**: The fundamental data structure in PyTorch\n",
        "3. **Operations**: Element-wise and matrix operations on tensors\n",
        "4. **Autograd**: Automatic differentiation for computing gradients\n",
        "5. **Neural network layers**: Using `nn.Linear` for linear transformations\n",
        "6. **Training loop**: Forward pass, loss computation, backward pass, and parameter updates\n",
        "\n",
        "## Next Steps\n",
        "\n",
        "- Proceed to the regression tutorial to see a more complete example\n",
        "- Learn about different loss functions and optimizers\n",
        "- Explore more complex neural network architectures\n",
        "\n",
        "Remember to always write device-agnostic code for better portability across different systems!"
      ]
    }
  ],
  "metadata": {
    "kernelspec": {
      "display_name": "Python 3",
      "language": "python",
      "name": "python3"
    },
    "language_info": {
      "codemirror_mode": {
        "name": "ipython",
        "version": 3
      },
      "file_extension": ".py",
      "mimetype": "text/x-python",
      "name": "python",
      "nbconvert_exporter": "python",
      "pygments_lexer": "ipython3",
      "version": "3.8.0"
    },
    "colab": {
      "provenance": []
    }
  },
  "nbformat": 4,
  "nbformat_minor": 0
}